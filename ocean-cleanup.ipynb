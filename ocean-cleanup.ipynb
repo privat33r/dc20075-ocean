{
 "cells": [
  {
   "cell_type": "code",
   "execution_count": 2,
   "metadata": {},
   "outputs": [
    {
     "name": "stderr",
     "output_type": "stream",
     "text": [
      "/usr/lib/python3/dist-packages/IPython/core/interactiveshell.py:2714: DtypeWarning: Columns (0) have mixed types.Specify dtype option on import or set low_memory=False.\n",
      "  interactivity=interactivity, compiler=compiler, result=result)\n"
     ]
    }
   ],
   "source": [
    "import pandas as pd\n",
    "\n",
    "ocean = pd.read_csv(\"Data_Level5_BAH_OceanCleanup.csv\")"
   ]
  },
  {
   "cell_type": "code",
   "execution_count": 3,
   "metadata": {},
   "outputs": [
    {
     "data": {
      "text/html": [
       "<div>\n",
       "<style scoped>\n",
       "    .dataframe tbody tr th:only-of-type {\n",
       "        vertical-align: middle;\n",
       "    }\n",
       "\n",
       "    .dataframe tbody tr th {\n",
       "        vertical-align: top;\n",
       "    }\n",
       "\n",
       "    .dataframe thead th {\n",
       "        text-align: right;\n",
       "    }\n",
       "</style>\n",
       "<table border=\"1\" class=\"dataframe\">\n",
       "  <thead>\n",
       "    <tr style=\"text-align: right;\">\n",
       "      <th></th>\n",
       "      <th>Cleanup ID</th>\n",
       "      <th>Zone</th>\n",
       "      <th>State</th>\n",
       "      <th>Country</th>\n",
       "      <th>GPS</th>\n",
       "      <th>Cleanup Type</th>\n",
       "      <th>Cleanup Date</th>\n",
       "      <th>Group Name</th>\n",
       "      <th>Adults</th>\n",
       "      <th>Children</th>\n",
       "      <th>...</th>\n",
       "      <th>Other Trash (Clean Swell)</th>\n",
       "      <th>Condoms</th>\n",
       "      <th>Diapers</th>\n",
       "      <th>Syringes</th>\n",
       "      <th>Tampons/Tampon Applicators</th>\n",
       "      <th>Personal Hygiene (Clean Swell)</th>\n",
       "      <th>Foam Pieces</th>\n",
       "      <th>Glass Pieces</th>\n",
       "      <th>Plastic Pieces</th>\n",
       "      <th>Total Items Collected</th>\n",
       "    </tr>\n",
       "  </thead>\n",
       "  <tbody>\n",
       "    <tr>\n",
       "      <th>0</th>\n",
       "      <td>86</td>\n",
       "      <td>Cuyahoga County, OH, USA</td>\n",
       "      <td>Ohio, USA</td>\n",
       "      <td>United States</td>\n",
       "      <td>41.49742, -81.56505</td>\n",
       "      <td>Land (beach, shoreline and inland)</td>\n",
       "      <td>12/22/2014</td>\n",
       "      <td>NaN</td>\n",
       "      <td>1.0</td>\n",
       "      <td>0.0</td>\n",
       "      <td>...</td>\n",
       "      <td>0</td>\n",
       "      <td>0</td>\n",
       "      <td>0</td>\n",
       "      <td>0</td>\n",
       "      <td>0</td>\n",
       "      <td>0</td>\n",
       "      <td>0</td>\n",
       "      <td>0</td>\n",
       "      <td>0</td>\n",
       "      <td>3.0</td>\n",
       "    </tr>\n",
       "    <tr>\n",
       "      <th>1</th>\n",
       "      <td>87</td>\n",
       "      <td>Fairfax County, VA, USA</td>\n",
       "      <td>Virginia, USA</td>\n",
       "      <td>United States</td>\n",
       "      <td>38.87456, -77.24428</td>\n",
       "      <td>Land (beach, shoreline and inland)</td>\n",
       "      <td>12/24/2014</td>\n",
       "      <td>NaN</td>\n",
       "      <td>1.0</td>\n",
       "      <td>0.0</td>\n",
       "      <td>...</td>\n",
       "      <td>0</td>\n",
       "      <td>0</td>\n",
       "      <td>0</td>\n",
       "      <td>0</td>\n",
       "      <td>0</td>\n",
       "      <td>0</td>\n",
       "      <td>0</td>\n",
       "      <td>0</td>\n",
       "      <td>2</td>\n",
       "      <td>10.0</td>\n",
       "    </tr>\n",
       "    <tr>\n",
       "      <th>2</th>\n",
       "      <td>92</td>\n",
       "      <td>Washington, DC, USA</td>\n",
       "      <td>District of Columbia, USA</td>\n",
       "      <td>United States</td>\n",
       "      <td>38.90733, -77.04405</td>\n",
       "      <td>Land (beach, shoreline and inland)</td>\n",
       "      <td>2/19/2015</td>\n",
       "      <td>NaN</td>\n",
       "      <td>1.0</td>\n",
       "      <td>0.0</td>\n",
       "      <td>...</td>\n",
       "      <td>1</td>\n",
       "      <td>0</td>\n",
       "      <td>0</td>\n",
       "      <td>0</td>\n",
       "      <td>0</td>\n",
       "      <td>0</td>\n",
       "      <td>0</td>\n",
       "      <td>0</td>\n",
       "      <td>0</td>\n",
       "      <td>4.0</td>\n",
       "    </tr>\n",
       "    <tr>\n",
       "      <th>3</th>\n",
       "      <td>93</td>\n",
       "      <td>Washington, DC, USA</td>\n",
       "      <td>District of Columbia, USA</td>\n",
       "      <td>United States</td>\n",
       "      <td>38.90733, -77.0441</td>\n",
       "      <td>Land (beach, shoreline and inland)</td>\n",
       "      <td>2/19/2015</td>\n",
       "      <td>NaN</td>\n",
       "      <td>1.0</td>\n",
       "      <td>0.0</td>\n",
       "      <td>...</td>\n",
       "      <td>0</td>\n",
       "      <td>0</td>\n",
       "      <td>0</td>\n",
       "      <td>0</td>\n",
       "      <td>0</td>\n",
       "      <td>0</td>\n",
       "      <td>0</td>\n",
       "      <td>0</td>\n",
       "      <td>0</td>\n",
       "      <td>14.0</td>\n",
       "    </tr>\n",
       "    <tr>\n",
       "      <th>4</th>\n",
       "      <td>94</td>\n",
       "      <td>Washington, DC, USA</td>\n",
       "      <td>District of Columbia, USA</td>\n",
       "      <td>United States</td>\n",
       "      <td>38.90733, -77.0441</td>\n",
       "      <td>Land (beach, shoreline and inland)</td>\n",
       "      <td>2/19/2015</td>\n",
       "      <td>NaN</td>\n",
       "      <td>1.0</td>\n",
       "      <td>0.0</td>\n",
       "      <td>...</td>\n",
       "      <td>0</td>\n",
       "      <td>0</td>\n",
       "      <td>0</td>\n",
       "      <td>0</td>\n",
       "      <td>0</td>\n",
       "      <td>0</td>\n",
       "      <td>0</td>\n",
       "      <td>0</td>\n",
       "      <td>0</td>\n",
       "      <td>14.0</td>\n",
       "    </tr>\n",
       "  </tbody>\n",
       "</table>\n",
       "<p>5 rows × 61 columns</p>\n",
       "</div>"
      ],
      "text/plain": [
       "  Cleanup ID                      Zone                      State  \\\n",
       "0         86  Cuyahoga County, OH, USA                  Ohio, USA   \n",
       "1         87   Fairfax County, VA, USA              Virginia, USA   \n",
       "2         92       Washington, DC, USA  District of Columbia, USA   \n",
       "3         93       Washington, DC, USA  District of Columbia, USA   \n",
       "4         94       Washington, DC, USA  District of Columbia, USA   \n",
       "\n",
       "         Country                  GPS                        Cleanup Type  \\\n",
       "0  United States  41.49742, -81.56505  Land (beach, shoreline and inland)   \n",
       "1  United States  38.87456, -77.24428  Land (beach, shoreline and inland)   \n",
       "2  United States  38.90733, -77.04405  Land (beach, shoreline and inland)   \n",
       "3  United States   38.90733, -77.0441  Land (beach, shoreline and inland)   \n",
       "4  United States   38.90733, -77.0441  Land (beach, shoreline and inland)   \n",
       "\n",
       "  Cleanup Date Group Name  Adults  Children  ...  Other Trash (Clean Swell)  \\\n",
       "0   12/22/2014        NaN     1.0       0.0  ...                          0   \n",
       "1   12/24/2014        NaN     1.0       0.0  ...                          0   \n",
       "2    2/19/2015        NaN     1.0       0.0  ...                          1   \n",
       "3    2/19/2015        NaN     1.0       0.0  ...                          0   \n",
       "4    2/19/2015        NaN     1.0       0.0  ...                          0   \n",
       "\n",
       "   Condoms  Diapers  Syringes  Tampons/Tampon Applicators  \\\n",
       "0        0        0         0                           0   \n",
       "1        0        0         0                           0   \n",
       "2        0        0         0                           0   \n",
       "3        0        0         0                           0   \n",
       "4        0        0         0                           0   \n",
       "\n",
       "   Personal Hygiene (Clean Swell)  Foam Pieces  Glass Pieces  Plastic Pieces  \\\n",
       "0                               0            0             0               0   \n",
       "1                               0            0             0               2   \n",
       "2                               0            0             0               0   \n",
       "3                               0            0             0               0   \n",
       "4                               0            0             0               0   \n",
       "\n",
       "   Total Items Collected  \n",
       "0                    3.0  \n",
       "1                   10.0  \n",
       "2                    4.0  \n",
       "3                   14.0  \n",
       "4                   14.0  \n",
       "\n",
       "[5 rows x 61 columns]"
      ]
     },
     "execution_count": 3,
     "metadata": {},
     "output_type": "execute_result"
    }
   ],
   "source": [
    "ocean.head()"
   ]
  },
  {
   "cell_type": "markdown",
   "metadata": {},
   "source": [
    "# Discussion of the data source\n",
    "\n",
    "## Source Characteristics\n",
    "Citizen Science initiative \n",
    "\n",
    "## Assumptions"
   ]
  },
  {
   "cell_type": "code",
   "execution_count": 16,
   "metadata": {},
   "outputs": [
    {
     "data": {
      "text/plain": [
       "Index(['Cleanup ID', 'Zone', 'State', 'Country', 'GPS', 'Cleanup Type',\n",
       "       'Cleanup Date', 'Group Name', 'Adults', 'Children', 'People', 'Pounds',\n",
       "       'Miles', '# of bags', 'Cigarette Butts',\n",
       "       'Food Wrappers (candy, chips, etc.)',\n",
       "       'Take Out/Away Containers (Plastic)', 'Take Out/Away Containers (Foam)',\n",
       "       'Bottle Caps (Plastic)', 'Bottle Caps (Metal)', 'Lids (Plastic)',\n",
       "       'Straws, Stirrers', 'Forks, Knives, Spoons',\n",
       "       'Beverage Bottles (Plastic)', 'Beverage Bottles (Glass)',\n",
       "       'Beverage Cans', 'Grocery Bags (Plastic)', 'Other Plastic Bags',\n",
       "       'Paper Bags', 'Cups, Plates (Paper)', 'Cups, Plates (Plastic)',\n",
       "       'Cups, Plates (Foam)', 'Fishing Buoys, Pots & Traps',\n",
       "       'Fishing Net & Pieces', 'Fishing Line (1 yard/meter = 1 piece)',\n",
       "       'Rope (1 yard/meter = 1 piece)', 'Fishing Gear (Clean Swell)',\n",
       "       '6-Pack Holders', 'Other Plastic/Foam Packaging',\n",
       "       'Other Plastic Bottles (oil, bleach, etc.)', 'Strapping Bands',\n",
       "       'Tobacco Packaging/Wrap', 'Other Packaging (Clean Swell)',\n",
       "       'Appliances (refrigerators, washers, etc.)', 'Balloons', 'Cigar Tips',\n",
       "       'Cigarette Lighters', 'Construction Materials', 'Fireworks', 'Tires',\n",
       "       'Toys', 'Other Trash (Clean Swell)', 'Condoms', 'Diapers', 'Syringes',\n",
       "       'Tampons/Tampon Applicators', 'Personal Hygiene (Clean Swell)',\n",
       "       'Foam Pieces', 'Glass Pieces', 'Plastic Pieces',\n",
       "       'Total Items Collected'],\n",
       "      dtype='object')"
      ]
     },
     "execution_count": 16,
     "metadata": {},
     "output_type": "execute_result"
    }
   ],
   "source": [
    "ocean.columns"
   ]
  },
  {
   "cell_type": "code",
   "execution_count": 15,
   "metadata": {},
   "outputs": [
    {
     "data": {
      "text/html": [
       "<div>\n",
       "<style scoped>\n",
       "    .dataframe tbody tr th:only-of-type {\n",
       "        vertical-align: middle;\n",
       "    }\n",
       "\n",
       "    .dataframe tbody tr th {\n",
       "        vertical-align: top;\n",
       "    }\n",
       "\n",
       "    .dataframe thead th {\n",
       "        text-align: right;\n",
       "    }\n",
       "</style>\n",
       "<table border=\"1\" class=\"dataframe\">\n",
       "  <thead>\n",
       "    <tr style=\"text-align: right;\">\n",
       "      <th></th>\n",
       "      <th>Cleanup Date</th>\n",
       "    </tr>\n",
       "  </thead>\n",
       "  <tbody>\n",
       "    <tr>\n",
       "      <th>0</th>\n",
       "      <td>12/22/2014</td>\n",
       "    </tr>\n",
       "    <tr>\n",
       "      <th>1</th>\n",
       "      <td>12/24/2014</td>\n",
       "    </tr>\n",
       "    <tr>\n",
       "      <th>2</th>\n",
       "      <td>2/19/2015</td>\n",
       "    </tr>\n",
       "    <tr>\n",
       "      <th>3</th>\n",
       "      <td>2/19/2015</td>\n",
       "    </tr>\n",
       "    <tr>\n",
       "      <th>4</th>\n",
       "      <td>2/19/2015</td>\n",
       "    </tr>\n",
       "    <tr>\n",
       "      <th>...</th>\n",
       "      <td>...</td>\n",
       "    </tr>\n",
       "    <tr>\n",
       "      <th>37899</th>\n",
       "      <td>9/21/2019</td>\n",
       "    </tr>\n",
       "    <tr>\n",
       "      <th>37900</th>\n",
       "      <td>9/21/2019</td>\n",
       "    </tr>\n",
       "    <tr>\n",
       "      <th>37901</th>\n",
       "      <td>9/21/2019</td>\n",
       "    </tr>\n",
       "    <tr>\n",
       "      <th>37902</th>\n",
       "      <td>9/21/2019</td>\n",
       "    </tr>\n",
       "    <tr>\n",
       "      <th>37903</th>\n",
       "      <td>NaN</td>\n",
       "    </tr>\n",
       "  </tbody>\n",
       "</table>\n",
       "<p>37904 rows × 1 columns</p>\n",
       "</div>"
      ],
      "text/plain": [
       "      Cleanup Date\n",
       "0       12/22/2014\n",
       "1       12/24/2014\n",
       "2        2/19/2015\n",
       "3        2/19/2015\n",
       "4        2/19/2015\n",
       "...            ...\n",
       "37899    9/21/2019\n",
       "37900    9/21/2019\n",
       "37901    9/21/2019\n",
       "37902    9/21/2019\n",
       "37903          NaN\n",
       "\n",
       "[37904 rows x 1 columns]"
      ]
     },
     "execution_count": 15,
     "metadata": {},
     "output_type": "execute_result"
    }
   ],
   "source": [
    "ocean[['Cleanup Date']]"
   ]
  },
  {
   "cell_type": "markdown",
   "metadata": {},
   "source": [
    "### Garbage density per area of cleanup location\n",
    "First looking at finding average weight of each item type as suggested by problem statement document."
   ]
  },
  {
   "cell_type": "code",
   "execution_count": 52,
   "metadata": {},
   "outputs": [
    {
     "data": {
      "text/plain": [
       "(37904, 46)"
      ]
     },
     "execution_count": 52,
     "metadata": {},
     "output_type": "execute_result"
    }
   ],
   "source": [
    "co = ocean[ocean.columns[14:-1]].to_numpy()\n",
    "co.shape"
   ]
  },
  {
   "cell_type": "code",
   "execution_count": 53,
   "metadata": {},
   "outputs": [
    {
     "data": {
      "text/plain": [
       "(37904, 1)"
      ]
     },
     "execution_count": 53,
     "metadata": {},
     "output_type": "execute_result"
    }
   ],
   "source": [
    "dep = ocean[['Pounds']].to_numpy()\n",
    "dep.shape"
   ]
  },
  {
   "cell_type": "code",
   "execution_count": 55,
   "metadata": {
    "scrolled": true
   },
   "outputs": [],
   "source": [
    "import numpy as np\n",
    "# np.linalg.solve(co,dep)\n",
    "# Not feasible since each variable does not have a consistent values across different entries/users\n",
    "# For deriving garbage density per area, finding the average weight for each item may not be that valuable i.e. there are alternative ways of getting it"
   ]
  }
 ],
 "metadata": {
  "kernelspec": {
   "display_name": "Python 3",
   "language": "python",
   "name": "python3"
  },
  "language_info": {
   "codemirror_mode": {
    "name": "ipython",
    "version": 3
   },
   "file_extension": ".py",
   "mimetype": "text/x-python",
   "name": "python",
   "nbconvert_exporter": "python",
   "pygments_lexer": "ipython3",
   "version": "3.7.5"
  }
 },
 "nbformat": 4,
 "nbformat_minor": 2
}
